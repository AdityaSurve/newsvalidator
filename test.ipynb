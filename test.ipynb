{
 "cells": [
  {
   "cell_type": "code",
   "execution_count": 1,
   "metadata": {},
   "outputs": [],
   "source": [
    "response = {\n",
    "    \"articles\": [\n",
    "        {\n",
    "            \"title\": \"Prime Minister inaugurates the $400 temple in Kanpur\"\n",
    "        },\n",
    "        {\n",
    "            \"title\": \"President launches new initiative\"\n",
    "        }\n",
    "    ]\n",
    "}"
   ]
  },
  {
   "cell_type": "code",
   "execution_count": 2,
   "metadata": {},
   "outputs": [],
   "source": [
    "import spacy\n",
    "import re\n",
    "\n",
    "nlp = spacy.load(\"en_core_web_sm\")\n",
    "\n",
    "def get_main_verb(sentence):\n",
    "    doc = nlp(sentence)\n",
    "    main_verb = None\n",
    "    for token in doc:\n",
    "        if token.pos_ == \"VERB\" and token.dep_ != \"aux\":\n",
    "            main_verb = token.text\n",
    "            break\n",
    "    return main_verb"
   ]
  },
  {
   "cell_type": "code",
   "execution_count": 3,
   "metadata": {},
   "outputs": [
    {
     "name": "stdout",
     "output_type": "stream",
     "text": [
      "Added Prime Minister inaugurates the $400 temple in Kanpur to the data model\n",
      "Added President launches new initiative to the data model\n"
     ]
    }
   ],
   "source": [
    "from DataModelling import DataModel\n",
    "\n",
    "data_model = DataModel()\n",
    "\n",
    "\n",
    "for article in response[\"articles\"]:\n",
    "    title = article[\"title\"]\n",
    "    main_verb = get_main_verb(title)\n",
    "    custom_pattern = re.compile(fr'(?P<entity1>.+?)\\s+(?P<relation>\\b(?:{main_verb})\\b)\\s+(?P<entity2>.+)')\n",
    "    match = custom_pattern.match(title)\n",
    "    entity1 = match.group(\"entity1\").strip()\n",
    "    entity2 = match.group(\"entity2\").strip()\n",
    "    relation = match.group(\"relation\").strip()\n",
    "    data_model.add_entity(entity1)\n",
    "    data_model.add_entity(entity2)\n",
    "    data_model.add_relation(relation, [\n",
    "        entity1,\n",
    "        entity2\n",
    "    ])\n",
    "    data_model.save_to_csv()\n",
    "    print(f\"Added {entity1} {relation} {entity2} to the data model\")"
   ]
  }
 ],
 "metadata": {
  "kernelspec": {
   "display_name": "Python 3",
   "language": "python",
   "name": "python3"
  },
  "language_info": {
   "codemirror_mode": {
    "name": "ipython",
    "version": 3
   },
   "file_extension": ".py",
   "mimetype": "text/x-python",
   "name": "python",
   "nbconvert_exporter": "python",
   "pygments_lexer": "ipython3",
   "version": "3.11.5"
  }
 },
 "nbformat": 4,
 "nbformat_minor": 2
}
